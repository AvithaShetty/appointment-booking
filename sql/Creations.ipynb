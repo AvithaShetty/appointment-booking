{
    "metadata": {
        "kernelspec": {
            "name": "SQL",
            "display_name": "SQL",
            "language": "sql"
        },
        "language_info": {
            "name": "sql",
            "version": ""
        }
    },
    "nbformat_minor": 2,
    "nbformat": 4,
    "cells": [
        {
            "cell_type": "code",
            "source": [
                "IF NOT EXISTS (SELECT * \r\n",
                "               FROM INFORMATION_SCHEMA.TABLES \r\n",
                "               WHERE TABLE_NAME = 'MEDICINE') \r\n",
                "    CREATE TABLE MEDICINE (\r\n",
                "        MID INT PRIMARY KEY,\r\n",
                "        NAME NVARCHAR(40),\r\n",
                "        PRICE FLOAT NOT NULL,\r\n",
                "    );"
            ],
            "metadata": {
                "azdata_cell_guid": "fe536cd0-6245-470b-ac66-bf987e16ae6b",
                "tags": []
            },
            "outputs": [],
            "execution_count": null
        },
        {
            "cell_type": "code",
            "source": [
                "IF NOT EXISTS (SELECT * \r\n",
                "               FROM INFORMATION_SCHEMA.TABLES \r\n",
                "               WHERE TABLE_NAME = 'DOCTOR') \r\n",
                "    CREATE TABLE DOCTOR (\r\n",
                "        DOC_ID INT PRIMARY KEY,\r\n",
                "        NAME NVARCHAR(40) NOT NULL,\r\n",
                "        DEPARTMENT NVARCHAR(40) NOT NULL,\r\n",
                "        QUALIFICATION NVARCHAR(50)\r\n",
                "    );"
            ],
            "metadata": {
                "azdata_cell_guid": "3077a64e-5950-4353-9189-a29969496714"
            },
            "outputs": [],
            "execution_count": null
        },
        {
            "cell_type": "code",
            "source": [
                "IF NOT EXISTS (SELECT * \r\n",
                "               FROM INFORMATION_SCHEMA.TABLES \r\n",
                "               WHERE TABLE_NAME = 'PATIENT') \r\n",
                "    CREATE TABLE PATIENT (\r\n",
                "        PID INT PRIMARY KEY,\r\n",
                "        NAME NVARCHAR(40) NOT NULL,\r\n",
                "        AGE INT,\r\n",
                "    );"
            ],
            "metadata": {
                "azdata_cell_guid": "fb9a07ff-c5d0-4b72-9e26-60c237ceaea9"
            },
            "outputs": [],
            "execution_count": null
        },
        {
            "cell_type": "code",
            "source": [
                "IF NOT EXISTS (SELECT * \r\n",
                "               FROM INFORMATION_SCHEMA.TABLES \r\n",
                "               WHERE TABLE_NAME = 'TEST') \r\n",
                "    CREATE TABLE TEST (\r\n",
                "        TID INT PRIMARY KEY,\r\n",
                "        NAME NVARCHAR(40) NOT NULL,\r\n",
                "        PRICE FLOAT NOT NULL,\r\n",
                "    );"
            ],
            "metadata": {
                "azdata_cell_guid": "5fd8de9a-f97b-47de-a161-a95fa1c3271e"
            },
            "outputs": [],
            "execution_count": null
        },
        {
            "cell_type": "code",
            "source": [
                "-- MODIFYING THE PATIENT TABLE TO ADD PASSWORDS"
            ],
            "metadata": {
                "azdata_cell_guid": "e7b129e6-bbe9-40b4-83df-e1c80006068a"
            },
            "outputs": [],
            "execution_count": null
        }
    ]
}