{
    "metadata": {
        "kernelspec": {
            "name": "SQL",
            "display_name": "SQL",
            "language": "sql"
        },
        "language_info": {
            "name": "sql",
            "version": ""
        }
    },
    "nbformat_minor": 2,
    "nbformat": 4,
    "cells": [
        {
            "cell_type": "code",
            "source": [
                "CREATE TABLE dbo.[User]\r\n",
                "(\r\n",
                "    UserID INT IDENTITY(1,1) NOT NULL,\r\n",
                "    LoginName NVARCHAR(40) NOT NULL,\r\n",
                "    PasswordHash BINARY(64) NOT NULL,\r\n",
                "    FirstName NVARCHAR(40) NULL,\r\n",
                "    LastName NVARCHAR(40) NULL,\r\n",
                "    Age INT NULL,\r\n",
                "    CONSTRAINT [PK_User_UserID] PRIMARY KEY CLUSTERED (UserID ASC)\r\n",
                ")"
            ],
            "metadata": {
                "azdata_cell_guid": "96d0697b-4f96-422b-aed6-c62b645468b4"
            },
            "outputs": [
                {
                    "output_type": "display_data",
                    "data": {
                        "text/html": "Commands completed successfully."
                    },
                    "metadata": {}
                },
                {
                    "output_type": "display_data",
                    "data": {
                        "text/html": "Total execution time: 00:00:00.077"
                    },
                    "metadata": {}
                }
            ],
            "execution_count": 1
        },
        {
            "cell_type": "code",
            "source": [
                "\r\n",
                "\r\n",
                "ALTER PROCEDURE dbo.AddUser\r\n",
                "    @pLogin NVARCHAR(50), \r\n",
                "    @pPassword NVARCHAR(50),\r\n",
                "    @pFirstName NVARCHAR(40) = NULL, \r\n",
                "    @pLastName NVARCHAR(40) = NULL,\r\n",
                "    @pAge INT = NULL,\r\n",
                "    @responseMessage NVARCHAR(250) OUTPUT\r\n",
                "AS\r\n",
                "BEGIN\r\n",
                "    SET NOCOUNT ON\r\n",
                "\r\n",
                "    DECLARE @salt UNIQUEIDENTIFIER=NEWID()\r\n",
                "    DECLARE @hash BINARY(64) = HASHBYTES('SHA2_512', @pPassword+CAST(@salt AS NVARCHAR(36)))\r\n",
                "    BEGIN TRY\r\n",
                "\r\n",
                "        INSERT INTO dbo.[User] (LoginName, PasswordHash, Salt, FirstName, LastName, Age)\r\n",
                "        VALUES(@pLogin, @hash, @salt, @pFirstName, @pLastName, @pAge)\r\n",
                "\r\n",
                "       SET @responseMessage='Success'\r\n",
                "\r\n",
                "    END TRY\r\n",
                "    BEGIN CATCH\r\n",
                "        SET @responseMessage=ERROR_MESSAGE() \r\n",
                "    END CATCH\r\n",
                "\r\n",
                "END"
            ],
            "metadata": {
                "azdata_cell_guid": "6baee639-c327-48d7-91e8-93aef760ad25"
            },
            "outputs": [
                {
                    "output_type": "display_data",
                    "data": {
                        "text/html": "Commands completed successfully."
                    },
                    "metadata": {}
                },
                {
                    "output_type": "display_data",
                    "data": {
                        "text/html": "Total execution time: 00:00:00.057"
                    },
                    "metadata": {}
                }
            ],
            "execution_count": 6
        },
        {
            "cell_type": "code",
            "source": [
                "-- Inserting Data\r\n",
                "\r\n",
                "TRUNCATE TABLE [dbo].[User]\r\n",
                "\r\n",
                "DECLARE @responseMessage NVARCHAR(250)\r\n",
                "\r\n",
                "EXEC dbo.AddUser\r\n",
                "          @pLogin = N'Admin',\r\n",
                "          @pPassword = N'123',\r\n",
                "          @pFirstName = N'Admin',\r\n",
                "          @pLastName = N'Administrator',\r\n",
                "          @responseMessage=@responseMessage OUTPUT\r\n",
                "\r\n",
                "SELECT UserID, LoginName, PasswordHash, Salt, FirstName, LastName, Age\r\n",
                "FROM [dbo].[User]"
            ],
            "metadata": {
                "azdata_cell_guid": "dd0cc715-d9ba-4d4e-ac0e-0d255886073f"
            },
            "outputs": [
                {
                    "output_type": "display_data",
                    "data": {
                        "text/html": "(1 row affected)"
                    },
                    "metadata": {}
                },
                {
                    "output_type": "display_data",
                    "data": {
                        "text/html": "Total execution time: 00:00:00.072"
                    },
                    "metadata": {}
                },
                {
                    "output_type": "execute_result",
                    "metadata": {},
                    "execution_count": 7,
                    "data": {
                        "application/vnd.dataresource+json": {
                            "schema": {
                                "fields": [
                                    {
                                        "name": "UserID"
                                    },
                                    {
                                        "name": "LoginName"
                                    },
                                    {
                                        "name": "PasswordHash"
                                    },
                                    {
                                        "name": "Salt"
                                    },
                                    {
                                        "name": "FirstName"
                                    },
                                    {
                                        "name": "LastName"
                                    },
                                    {
                                        "name": "Age"
                                    }
                                ]
                            },
                            "data": [
                                {
                                    "0": "1",
                                    "1": "Admin",
                                    "2": "0x427C33D3FAF4615579EB339D8E4361B83AE493FC6E0C66E21D4427D6293A9A39D6939CE4E7914B3D30DFD01E852BC14BB0A10D5E9E3E3CE65726444FBB7E34B5",
                                    "3": "9df17903-81f4-4bce-ba16-268cc60e8f74",
                                    "4": "Admin",
                                    "5": "Administrator",
                                    "6": "NULL"
                                }
                            ]
                        },
                        "text/html": [
                            "<table>",
                            "<tr><th>UserID</th><th>LoginName</th><th>PasswordHash</th><th>Salt</th><th>FirstName</th><th>LastName</th><th>Age</th></tr>",
                            "<tr><td>1</td><td>Admin</td><td>0x427C33D3FAF4615579EB339D8E4361B83AE493FC6E0C66E21D4427D6293A9A39D6939CE4E7914B3D30DFD01E852BC14BB0A10D5E9E3E3CE65726444FBB7E34B5</td><td>9df17903-81f4-4bce-ba16-268cc60e8f74</td><td>Admin</td><td>Administrator</td><td>NULL</td></tr>",
                            "</table>"
                        ]
                    }
                }
            ],
            "execution_count": 7
        },
        {
            "cell_type": "code",
            "source": [
                "-- Login\r\n",
                "\r\n",
                "CREATE PROCEDURE dbo.Login\r\n",
                "    @pLoginName NVARCHAR(254),\r\n",
                "    @pPassword NVARCHAR(50),\r\n",
                "    @responseMessage NVARCHAR(250)='' OUTPUT\r\n",
                "AS\r\n",
                "BEGIN\r\n",
                "\r\n",
                "    SET NOCOUNT ON\r\n",
                "\r\n",
                "    DECLARE @userID INT\r\n",
                "\r\n",
                "    IF EXISTS (SELECT TOP 1 UserID FROM [dbo].[User] WHERE LoginName=@pLoginName)\r\n",
                "    BEGIN\r\n",
                "        SET @userID=(SELECT UserID FROM [dbo].[User] WHERE LoginName=@pLoginName AND PasswordHash=HASHBYTES('SHA2_512', @pPassword+CAST(Salt AS NVARCHAR(36))))\r\n",
                "\r\n",
                "       IF(@userID IS NULL)\r\n",
                "           SET @responseMessage='Incorrect password'\r\n",
                "       ELSE \r\n",
                "           SET @responseMessage='User successfully logged in'\r\n",
                "    END\r\n",
                "    ELSE\r\n",
                "       SET @responseMessage='Invalid login'\r\n",
                "\r\n",
                "END"
            ],
            "metadata": {
                "azdata_cell_guid": "4d398fd2-a93e-4ce5-b7c0-f676b240e9bd"
            },
            "outputs": [
                {
                    "output_type": "display_data",
                    "data": {
                        "text/html": "Commands completed successfully."
                    },
                    "metadata": {}
                },
                {
                    "output_type": "display_data",
                    "data": {
                        "text/html": "Total execution time: 00:00:00.074"
                    },
                    "metadata": {}
                }
            ],
            "execution_count": 8
        },
        {
            "cell_type": "code",
            "source": [
                "-- Checking the Login Function\r\n",
                "\r\n",
                "DECLARE\t@responseMessage nvarchar(250)\r\n",
                "\r\n",
                "--Correct login and password\r\n",
                "EXEC\tdbo.Login\r\n",
                "\t\t@pLoginName = N'Admin',\r\n",
                "\t\t@pPassword = N'123',\r\n",
                "\t\t@responseMessage = @responseMessage OUTPUT\r\n",
                "\r\n",
                "SELECT\t@responseMessage as N'@responseMessage'\r\n",
                "\r\n",
                "--Incorrect login\r\n",
                "EXEC\tdbo.Login\r\n",
                "\t\t@pLoginName = N'Admin1', \r\n",
                "\t\t@pPassword = N'123',\r\n",
                "\t\t@responseMessage = @responseMessage OUTPUT\r\n",
                "\r\n",
                "SELECT\t@responseMessage as N'@responseMessage'\r\n",
                "\r\n",
                "--Incorrect password\r\n",
                "EXEC\tdbo.Login\r\n",
                "\t\t@pLoginName = N'Admin', \r\n",
                "\t\t@pPassword = N'1234',\r\n",
                "\t\t@responseMessage = @responseMessage OUTPUT\r\n",
                "\r\n",
                "SELECT\t@responseMessage as N'@responseMessage'"
            ],
            "metadata": {
                "azdata_cell_guid": "84aab920-0781-49b8-9b7b-b238b454bba9"
            },
            "outputs": [
                {
                    "output_type": "display_data",
                    "data": {
                        "text/html": "(1 row affected)"
                    },
                    "metadata": {}
                },
                {
                    "output_type": "display_data",
                    "data": {
                        "text/html": "(1 row affected)"
                    },
                    "metadata": {}
                },
                {
                    "output_type": "display_data",
                    "data": {
                        "text/html": "(1 row affected)"
                    },
                    "metadata": {}
                },
                {
                    "output_type": "display_data",
                    "data": {
                        "text/html": "Total execution time: 00:00:00.072"
                    },
                    "metadata": {}
                },
                {
                    "output_type": "execute_result",
                    "metadata": {},
                    "execution_count": 10,
                    "data": {
                        "application/vnd.dataresource+json": {
                            "schema": {
                                "fields": [
                                    {
                                        "name": "@responseMessage"
                                    }
                                ]
                            },
                            "data": [
                                {
                                    "0": "User successfully logged in"
                                }
                            ]
                        },
                        "text/html": [
                            "<table>",
                            "<tr><th>@responseMessage</th></tr>",
                            "<tr><td>User successfully logged in</td></tr>",
                            "</table>"
                        ]
                    }
                },
                {
                    "output_type": "execute_result",
                    "metadata": {},
                    "execution_count": 10,
                    "data": {
                        "application/vnd.dataresource+json": {
                            "schema": {
                                "fields": [
                                    {
                                        "name": "@responseMessage"
                                    }
                                ]
                            },
                            "data": [
                                {
                                    "0": "Invalid login"
                                }
                            ]
                        },
                        "text/html": [
                            "<table>",
                            "<tr><th>@responseMessage</th></tr>",
                            "<tr><td>Invalid login</td></tr>",
                            "</table>"
                        ]
                    }
                },
                {
                    "output_type": "execute_result",
                    "metadata": {},
                    "execution_count": 10,
                    "data": {
                        "application/vnd.dataresource+json": {
                            "schema": {
                                "fields": [
                                    {
                                        "name": "@responseMessage"
                                    }
                                ]
                            },
                            "data": [
                                {
                                    "0": "Incorrect password"
                                }
                            ]
                        },
                        "text/html": [
                            "<table>",
                            "<tr><th>@responseMessage</th></tr>",
                            "<tr><td>Incorrect password</td></tr>",
                            "</table>"
                        ]
                    }
                }
            ],
            "execution_count": 10
        }
    ]
}