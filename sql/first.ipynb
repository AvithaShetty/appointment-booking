{
    "metadata": {
        "kernelspec": {
            "name": "SQL",
            "display_name": "SQL",
            "language": "sql"
        },
        "language_info": {
            "name": "sql",
            "version": ""
        }
    },
    "nbformat_minor": 2,
    "nbformat": 4,
    "cells": [
        {
            "cell_type": "markdown",
            "source": [
                "This is my first SQL Query on my Thinkpad"
            ],
            "metadata": {
                "azdata_cell_guid": "fb22f9ff-214a-43ea-afae-1fe7aba36b95"
            }
        },
        {
            "cell_type": "code",
            "source": [
                "INSERT INTO DOCTOR \r\n",
                "VALUES  (1011, 'Dr.Arun T V', 'ENT', 'MBBS | MS'),\r\n",
                "        (1012, 'Dr.Jayanthi', 'ENT', 'MBBS | DLO | DNB(ENT)'),\r\n",
                "        (1013, 'Dr.Rohit M', 'ENT', 'MBBS | MS'),\r\n",
                "        (1014, 'Dr.Mukundan', 'ENT', 'MBBS | MS'),\r\n",
                "        (1015, 'Dr.Anand', 'ENT', 'MBBS | MS'),\r\n",
                "        (1016, 'Dr.Aashalatha', 'ENT', 'MBBS | MS'),\r\n",
                "        (2011, 'Dr.Mohan', 'Dental Medicine', 'BDS | MDS'),\r\n",
                "        (2012, 'Dr.Shubha', 'Dental Medicine', 'BDS | MDS Prosthodontics'),\r\n",
                "        (2013, 'Dr.Rithika Sharma', 'Dental Medicine', 'BDS | MDS'),\r\n",
                "        (2014, 'Dr.Pavandeep ', 'Dental Medicine', 'BDS'),\r\n",
                "        (2015, 'Dr.Sachdeva', 'Dental Medicine', 'BDS | MDS'),\r\n",
                "        (2016, 'Dr.Bharat', 'Dental Medicine', 'BDS | M.I.D.A | F.A.G.E'),\r\n",
                "        (3011, 'Dr.Savita', 'Dermatology', 'MD | FRGUHS - Cosmetic Dermatology'),\r\n",
                "        (3012, 'Dr.Joshi', 'Dermatology', 'MBBS | MD (Dermatology)'),\r\n",
                "        (3013, 'Dr.Ritu', 'Dermatology', 'MBBS | MD (Dermatology)'),\r\n",
                "        (3014, 'Dr.Jaidev', 'Dermatology', 'MD (Dermatology), FRGUHS'),\r\n",
                "        (3015, 'Dr.Sushmitha', 'Dermatology', 'MBBS | DDV, DNB'),\r\n",
                "        (3016, 'Dr.Gaurav', 'Dermatology', 'MBBS | MD'),\r\n",
                "        (4011, 'Dr.Ravi', 'Nephrology', 'MBBS | MD (Int Med) | DNB (Nephro)'),\r\n",
                "        (4012, 'Dr.Darshan Sharma', 'Nephrology', ' MBBS | MD | DM | DNB'),\r\n",
                "        (4013, 'Dr.Mayank', 'Nephrology', 'MBBS | MD | DM'),\r\n",
                "        (4014, 'Dr.Yug Singh', 'Nephrology', 'MD | DM '),\r\n",
                "        (4015, 'Dr.Saransh', 'Nephrology', 'MBBS | MD | DM | DNB'),\r\n",
                "        (4016, 'Dr.Aasha', 'Nephrology', 'MBBS | MD | DM'),\r\n",
                "        (5011, 'Dr.Shobha Singh', 'Neurologist', 'MBBS | DNB - General Medicine | DM - Neurology'),\r\n",
                "        (5012, 'Dr.Aparna Pai', 'Neurologist', 'DM NEUROLOGY'),\r\n",
                "        (5013, 'Dr.Shankar', 'Neurologist', 'MBBS | MD | DNB | DM'),\r\n",
                "        (5014, 'Dr.Arvind', 'Neurologist', 'MBBS | MS | DNB'),\r\n",
                "        (5015, 'Dr.Vijay Shankar', 'Neurologist', 'MBBS | MD | DM'),\r\n",
                "        (5016, 'Dr.Ashwin', 'Neurologist', 'MBBS | DM'),\r\n",
                "        (6011, 'Dr.Murlidhar', 'OBG', 'MBBS | Diploma | MD | FICOG'),\r\n",
                "        (6012, 'Dr.Anjali', 'OBG', 'MBBS | MD (Obstetrics & Gynaecology)'),\r\n",
                "        (6013, 'Dr.Manik', 'OBG', 'MBBS | MD (Obstetrics & Gynaecology)'),\r\n",
                "        (6014, 'Dr.Meena Sharma', 'OBG', 'MBBS | MS | DNB '),\r\n",
                "        (6015, 'Dr.Surajr', 'OBG', 'MBBS | DGO | MD | MRCOG (UK)'),\r\n",
                "        (6016, 'Dr.Sowbhagya', 'OBG', ' MBBS | MD (Obstetrics & Gynaecology)'),\r\n",
                "        (7011, 'Dr.Shama', 'Ophthalmology', 'MBBS | MS | FPRS'),\r\n",
                "        (7012, 'Dr.Krishan', 'Ophthalmology', 'MBBS | MS'),\r\n",
                "        (7013, 'Dr.Neeta', 'Ophthalmology', 'MBBS | MS'),\r\n",
                "        (7014, 'Dr.Shailaja', 'Ophthalmology', ' MD | PG Diploma in DOMS'),\r\n",
                "        (7015, 'Dr.Yogish Agarwal', 'Ophthalmology', 'MBBS | MS'),\r\n",
                "        (7016, 'Dr.Sudha', 'Ophthalmology', 'MBBS | MS'),\r\n",
                "        (8011, 'Dr.Anil', 'Orthopaedics', 'MBBS | MS Orthopaedics'),\r\n",
                "        (8012, 'Dr.Kiran Kumar', 'Orthopaedics', 'MBBS | MS | DNB'),\r\n",
                "        (8013, 'Dr.Jayaram', 'Orthopaedics', 'MBBS | MS'),\r\n",
                "        (8014, 'Dr.Padmaraj', 'Orthopaedics', 'MBBS | diploma (Orthopaedics) | MS'),\r\n",
                "        (8015, 'Dr.Niranjan', 'Orthopaedics', 'MBBS | MS'),\r\n",
                "        (8016, 'Dr.Aarti', 'Orthopaedics', 'MBBS | MS'),\r\n",
                "        (9011, 'Dr.Bhaskar', 'Paediatrics', 'MBBS | MD'),\r\n",
                "        (9012, 'Dr.Vasudev', 'Paediatrics', 'MBBS | DCH | MRPCH'),\r\n",
                "        (9013, 'Dr.Kneethi', 'Paediatrics', ' MBBS | DCH | DNB'),\r\n",
                "        (9014, 'Dr.Neha', 'Paediatrics', 'MBBS | MD'),\r\n",
                "        (9015, 'Dr.Suman', 'Paediatrics', 'MBBS | DCH | MRPCH'),\r\n",
                "        (9016, 'Dr.Naresh', 'Paediatrics', 'MBBS | MD');\r\n",
                ""
            ],
            "metadata": {
                "azdata_cell_guid": "18f0b3ab-8e77-41ed-9c2f-213fd594363b"
            },
            "outputs": [
                {
                    "output_type": "display_data",
                    "data": {
                        "text/html": "(54 rows affected)"
                    },
                    "metadata": {}
                },
                {
                    "output_type": "display_data",
                    "data": {
                        "text/html": "Total execution time: 00:00:00.309"
                    },
                    "metadata": {}
                }
            ],
            "execution_count": 33
        },
        {
            "cell_type": "code",
            "source": [
                "SELECT * FROM INFORMATION_SCHEMA.TABLES;"
            ],
            "metadata": {
                "azdata_cell_guid": "b741e549-0107-4dab-a860-329463b5d4e8"
            },
            "outputs": [
                {
                    "output_type": "display_data",
                    "data": {
                        "text/html": "(5 rows affected)"
                    },
                    "metadata": {}
                },
                {
                    "output_type": "display_data",
                    "data": {
                        "text/html": "Total execution time: 00:00:00.062"
                    },
                    "metadata": {}
                },
                {
                    "output_type": "execute_result",
                    "execution_count": 13,
                    "data": {
                        "application/vnd.dataresource+json": {
                            "schema": {
                                "fields": [
                                    {
                                        "name": "TABLE_CATALOG"
                                    },
                                    {
                                        "name": "TABLE_SCHEMA"
                                    },
                                    {
                                        "name": "TABLE_NAME"
                                    },
                                    {
                                        "name": "TABLE_TYPE"
                                    }
                                ]
                            },
                            "data": [
                                {
                                    "0": "myHospital",
                                    "1": "sys",
                                    "2": "database_firewall_rules",
                                    "3": "VIEW"
                                },
                                {
                                    "0": "myHospital",
                                    "1": "dbo",
                                    "2": "MEDICINE",
                                    "3": "BASE TABLE"
                                },
                                {
                                    "0": "myHospital",
                                    "1": "dbo",
                                    "2": "DOCTOR",
                                    "3": "BASE TABLE"
                                },
                                {
                                    "0": "myHospital",
                                    "1": "dbo",
                                    "2": "PATIENT",
                                    "3": "BASE TABLE"
                                },
                                {
                                    "0": "myHospital",
                                    "1": "dbo",
                                    "2": "TEST",
                                    "3": "BASE TABLE"
                                }
                            ]
                        },
                        "text/html": "<table><tr><th>TABLE_CATALOG</th><th>TABLE_SCHEMA</th><th>TABLE_NAME</th><th>TABLE_TYPE</th></tr><tr><td>myHospital</td><td>sys</td><td>database_firewall_rules</td><td>VIEW</td></tr><tr><td>myHospital</td><td>dbo</td><td>MEDICINE</td><td>BASE TABLE</td></tr><tr><td>myHospital</td><td>dbo</td><td>DOCTOR</td><td>BASE TABLE</td></tr><tr><td>myHospital</td><td>dbo</td><td>PATIENT</td><td>BASE TABLE</td></tr><tr><td>myHospital</td><td>dbo</td><td>TEST</td><td>BASE TABLE</td></tr></table>"
                    },
                    "metadata": {}
                }
            ],
            "execution_count": 13
        },
        {
            "cell_type": "code",
            "source": [
                "SELECT * FROM DOCTOR;"
            ],
            "metadata": {
                "azdata_cell_guid": "4df957b8-9782-4a04-8ace-29b107f1fe24"
            },
            "outputs": [
                {
                    "output_type": "display_data",
                    "data": {
                        "text/html": "(54 rows affected)"
                    },
                    "metadata": {}
                },
                {
                    "output_type": "display_data",
                    "data": {
                        "text/html": "Total execution time: 00:00:14.785"
                    },
                    "metadata": {}
                },
                {
                    "output_type": "execute_result",
                    "execution_count": 34,
                    "data": {
                        "application/vnd.dataresource+json": {
                            "schema": {
                                "fields": [
                                    {
                                        "name": "DOC_ID"
                                    },
                                    {
                                        "name": "NAME"
                                    },
                                    {
                                        "name": "DEPARTMENT"
                                    },
                                    {
                                        "name": "QUALIFICATION"
                                    }
                                ]
                            },
                            "data": [
                                {
                                    "0": "1011",
                                    "1": "Dr.Arun T V",
                                    "2": "ENT",
                                    "3": "MBBS | MS"
                                },
                                {
                                    "0": "1012",
                                    "1": "Dr.Jayanthi",
                                    "2": "ENT",
                                    "3": "MBBS | DLO | DNB(ENT)"
                                },
                                {
                                    "0": "1013",
                                    "1": "Dr.Rohit M",
                                    "2": "ENT",
                                    "3": "MBBS | MS"
                                },
                                {
                                    "0": "1014",
                                    "1": "Dr.Mukundan",
                                    "2": "ENT",
                                    "3": "MBBS | MS"
                                },
                                {
                                    "0": "1015",
                                    "1": "Dr.Anand",
                                    "2": "ENT",
                                    "3": "MBBS | MS"
                                },
                                {
                                    "0": "1016",
                                    "1": "Dr.Aashalatha",
                                    "2": "ENT",
                                    "3": "MBBS | MS"
                                },
                                {
                                    "0": "2011",
                                    "1": "Dr.Mohan",
                                    "2": "Dental Medicine",
                                    "3": "BDS | MDS"
                                },
                                {
                                    "0": "2012",
                                    "1": "Dr.Shubha",
                                    "2": "Dental Medicine",
                                    "3": "BDS | MDS Prosthodontics"
                                },
                                {
                                    "0": "2013",
                                    "1": "Dr.Rithika Sharma",
                                    "2": "Dental Medicine",
                                    "3": "BDS | MDS"
                                },
                                {
                                    "0": "2014",
                                    "1": "Dr.Pavandeep ",
                                    "2": "Dental Medicine",
                                    "3": "BDS"
                                },
                                {
                                    "0": "2015",
                                    "1": "Dr.Sachdeva",
                                    "2": "Dental Medicine",
                                    "3": "BDS | MDS"
                                },
                                {
                                    "0": "2016",
                                    "1": "Dr.Bharat",
                                    "2": "Dental Medicine",
                                    "3": "BDS | M.I.D.A | F.A.G.E"
                                },
                                {
                                    "0": "3011",
                                    "1": "Dr.Savita",
                                    "2": "Dermatology",
                                    "3": "MD | FRGUHS - Cosmetic Dermatology"
                                },
                                {
                                    "0": "3012",
                                    "1": "Dr.Joshi",
                                    "2": "Dermatology",
                                    "3": "MBBS | MD (Dermatology)"
                                },
                                {
                                    "0": "3013",
                                    "1": "Dr.Ritu",
                                    "2": "Dermatology",
                                    "3": "MBBS | MD (Dermatology)"
                                },
                                {
                                    "0": "3014",
                                    "1": "Dr.Jaidev",
                                    "2": "Dermatology",
                                    "3": "MD (Dermatology), FRGUHS"
                                },
                                {
                                    "0": "3015",
                                    "1": "Dr.Sushmitha",
                                    "2": "Dermatology",
                                    "3": "MBBS | DDV, DNB"
                                },
                                {
                                    "0": "3016",
                                    "1": "Dr.Gaurav",
                                    "2": "Dermatology",
                                    "3": "MBBS | MD"
                                },
                                {
                                    "0": "4011",
                                    "1": "Dr.Ravi",
                                    "2": "Nephrology",
                                    "3": "MBBS | MD (Int Med) | DNB (Nephro)"
                                },
                                {
                                    "0": "4012",
                                    "1": "Dr.Darshan Sharma",
                                    "2": "Nephrology",
                                    "3": " MBBS | MD | DM | DNB"
                                },
                                {
                                    "0": "4013",
                                    "1": "Dr.Mayank",
                                    "2": "Nephrology",
                                    "3": "MBBS | MD | DM"
                                },
                                {
                                    "0": "4014",
                                    "1": "Dr.Yug Singh",
                                    "2": "Nephrology",
                                    "3": "MD | DM "
                                },
                                {
                                    "0": "4015",
                                    "1": "Dr.Saransh",
                                    "2": "Nephrology",
                                    "3": "MBBS | MD | DM | DNB"
                                },
                                {
                                    "0": "4016",
                                    "1": "Dr.Aasha",
                                    "2": "Nephrology",
                                    "3": "MBBS | MD | DM"
                                },
                                {
                                    "0": "5011",
                                    "1": "Dr.Shobha Singh",
                                    "2": "Neurologist",
                                    "3": "MBBS | DNB - General Medicine | DM - Neurology"
                                },
                                {
                                    "0": "5012",
                                    "1": "Dr.Aparna Pai",
                                    "2": "Neurologist",
                                    "3": "DM NEUROLOGY"
                                },
                                {
                                    "0": "5013",
                                    "1": "Dr.Shankar",
                                    "2": "Neurologist",
                                    "3": "MBBS | MD | DNB | DM"
                                },
                                {
                                    "0": "5014",
                                    "1": "Dr.Arvind",
                                    "2": "Neurologist",
                                    "3": "MBBS | MS | DNB"
                                },
                                {
                                    "0": "5015",
                                    "1": "Dr.Vijay Shankar",
                                    "2": "Neurologist",
                                    "3": "MBBS | MD | DM"
                                },
                                {
                                    "0": "5016",
                                    "1": "Dr.Ashwin",
                                    "2": "Neurologist",
                                    "3": "MBBS | DM"
                                },
                                {
                                    "0": "6011",
                                    "1": "Dr.Murlidhar",
                                    "2": "OBG",
                                    "3": "MBBS | Diploma | MD | FICOG"
                                },
                                {
                                    "0": "6012",
                                    "1": "Dr.Anjali",
                                    "2": "OBG",
                                    "3": "MBBS | MD (Obstetrics & Gynaecology)"
                                },
                                {
                                    "0": "6013",
                                    "1": "Dr.Manik",
                                    "2": "OBG",
                                    "3": "MBBS | MD (Obstetrics & Gynaecology)"
                                },
                                {
                                    "0": "6014",
                                    "1": "Dr.Meena Sharma",
                                    "2": "OBG",
                                    "3": "MBBS | MS | DNB "
                                },
                                {
                                    "0": "6015",
                                    "1": "Dr.Surajr",
                                    "2": "OBG",
                                    "3": "MBBS | DGO | MD | MRCOG (UK)"
                                },
                                {
                                    "0": "6016",
                                    "1": "Dr.Sowbhagya",
                                    "2": "OBG",
                                    "3": " MBBS | MD (Obstetrics & Gynaecology)"
                                },
                                {
                                    "0": "7011",
                                    "1": "Dr.Shama",
                                    "2": "Ophthalmology",
                                    "3": "MBBS | MS | FPRS"
                                },
                                {
                                    "0": "7012",
                                    "1": "Dr.Krishan",
                                    "2": "Ophthalmology",
                                    "3": "MBBS | MS"
                                },
                                {
                                    "0": "7013",
                                    "1": "Dr.Neeta",
                                    "2": "Ophthalmology",
                                    "3": "MBBS | MS"
                                },
                                {
                                    "0": "7014",
                                    "1": "Dr.Shailaja",
                                    "2": "Ophthalmology",
                                    "3": " MD | PG Diploma in DOMS"
                                },
                                {
                                    "0": "7015",
                                    "1": "Dr.Yogish Agarwal",
                                    "2": "Ophthalmology",
                                    "3": "MBBS | MS"
                                },
                                {
                                    "0": "7016",
                                    "1": "Dr.Sudha",
                                    "2": "Ophthalmology",
                                    "3": "MBBS | MS"
                                },
                                {
                                    "0": "8011",
                                    "1": "Dr.Anil",
                                    "2": "Orthopaedics",
                                    "3": "MBBS | MS Orthopaedics"
                                },
                                {
                                    "0": "8012",
                                    "1": "Dr.Kiran Kumar",
                                    "2": "Orthopaedics",
                                    "3": "MBBS | MS | DNB"
                                },
                                {
                                    "0": "8013",
                                    "1": "Dr.Jayaram",
                                    "2": "Orthopaedics",
                                    "3": "MBBS | MS"
                                },
                                {
                                    "0": "8014",
                                    "1": "Dr.Padmaraj",
                                    "2": "Orthopaedics",
                                    "3": "MBBS | diploma (Orthopaedics) | MS"
                                },
                                {
                                    "0": "8015",
                                    "1": "Dr.Niranjan",
                                    "2": "Orthopaedics",
                                    "3": "MBBS | MS"
                                },
                                {
                                    "0": "8016",
                                    "1": "Dr.Aarti",
                                    "2": "Orthopaedics",
                                    "3": "MBBS | MS"
                                },
                                {
                                    "0": "9011",
                                    "1": "Dr.Bhaskar",
                                    "2": "Paediatrics",
                                    "3": "MBBS | MD"
                                },
                                {
                                    "0": "9012",
                                    "1": "Dr.Vasudev",
                                    "2": "Paediatrics",
                                    "3": "MBBS | DCH | MRPCH"
                                },
                                {
                                    "0": "9013",
                                    "1": "Dr.Kneethi",
                                    "2": "Paediatrics",
                                    "3": " MBBS | DCH | DNB"
                                },
                                {
                                    "0": "9014",
                                    "1": "Dr.Neha",
                                    "2": "Paediatrics",
                                    "3": "MBBS | MD"
                                },
                                {
                                    "0": "9015",
                                    "1": "Dr.Suman",
                                    "2": "Paediatrics",
                                    "3": "MBBS | DCH | MRPCH"
                                },
                                {
                                    "0": "9016",
                                    "1": "Dr.Naresh",
                                    "2": "Paediatrics",
                                    "3": "MBBS | MD"
                                }
                            ]
                        },
                        "text/html": "<table><tr><th>DOC_ID</th><th>NAME</th><th>DEPARTMENT</th><th>QUALIFICATION</th></tr><tr><td>1011</td><td>Dr.Arun T V</td><td>ENT</td><td>MBBS | MS</td></tr><tr><td>1012</td><td>Dr.Jayanthi</td><td>ENT</td><td>MBBS | DLO | DNB(ENT)</td></tr><tr><td>1013</td><td>Dr.Rohit M</td><td>ENT</td><td>MBBS | MS</td></tr><tr><td>1014</td><td>Dr.Mukundan</td><td>ENT</td><td>MBBS | MS</td></tr><tr><td>1015</td><td>Dr.Anand</td><td>ENT</td><td>MBBS | MS</td></tr><tr><td>1016</td><td>Dr.Aashalatha</td><td>ENT</td><td>MBBS | MS</td></tr><tr><td>2011</td><td>Dr.Mohan</td><td>Dental Medicine</td><td>BDS | MDS</td></tr><tr><td>2012</td><td>Dr.Shubha</td><td>Dental Medicine</td><td>BDS | MDS Prosthodontics</td></tr><tr><td>2013</td><td>Dr.Rithika Sharma</td><td>Dental Medicine</td><td>BDS | MDS</td></tr><tr><td>2014</td><td>Dr.Pavandeep </td><td>Dental Medicine</td><td>BDS</td></tr><tr><td>2015</td><td>Dr.Sachdeva</td><td>Dental Medicine</td><td>BDS | MDS</td></tr><tr><td>2016</td><td>Dr.Bharat</td><td>Dental Medicine</td><td>BDS | M.I.D.A | F.A.G.E</td></tr><tr><td>3011</td><td>Dr.Savita</td><td>Dermatology</td><td>MD | FRGUHS - Cosmetic Dermatology</td></tr><tr><td>3012</td><td>Dr.Joshi</td><td>Dermatology</td><td>MBBS | MD (Dermatology)</td></tr><tr><td>3013</td><td>Dr.Ritu</td><td>Dermatology</td><td>MBBS | MD (Dermatology)</td></tr><tr><td>3014</td><td>Dr.Jaidev</td><td>Dermatology</td><td>MD (Dermatology), FRGUHS</td></tr><tr><td>3015</td><td>Dr.Sushmitha</td><td>Dermatology</td><td>MBBS | DDV, DNB</td></tr><tr><td>3016</td><td>Dr.Gaurav</td><td>Dermatology</td><td>MBBS | MD</td></tr><tr><td>4011</td><td>Dr.Ravi</td><td>Nephrology</td><td>MBBS | MD (Int Med) | DNB (Nephro)</td></tr><tr><td>4012</td><td>Dr.Darshan Sharma</td><td>Nephrology</td><td> MBBS | MD | DM | DNB</td></tr><tr><td>4013</td><td>Dr.Mayank</td><td>Nephrology</td><td>MBBS | MD | DM</td></tr><tr><td>4014</td><td>Dr.Yug Singh</td><td>Nephrology</td><td>MD | DM </td></tr><tr><td>4015</td><td>Dr.Saransh</td><td>Nephrology</td><td>MBBS | MD | DM | DNB</td></tr><tr><td>4016</td><td>Dr.Aasha</td><td>Nephrology</td><td>MBBS | MD | DM</td></tr><tr><td>5011</td><td>Dr.Shobha Singh</td><td>Neurologist</td><td>MBBS | DNB - General Medicine | DM - Neurology</td></tr><tr><td>5012</td><td>Dr.Aparna Pai</td><td>Neurologist</td><td>DM NEUROLOGY</td></tr><tr><td>5013</td><td>Dr.Shankar</td><td>Neurologist</td><td>MBBS | MD | DNB | DM</td></tr><tr><td>5014</td><td>Dr.Arvind</td><td>Neurologist</td><td>MBBS | MS | DNB</td></tr><tr><td>5015</td><td>Dr.Vijay Shankar</td><td>Neurologist</td><td>MBBS | MD | DM</td></tr><tr><td>5016</td><td>Dr.Ashwin</td><td>Neurologist</td><td>MBBS | DM</td></tr><tr><td>6011</td><td>Dr.Murlidhar</td><td>OBG</td><td>MBBS | Diploma | MD | FICOG</td></tr><tr><td>6012</td><td>Dr.Anjali</td><td>OBG</td><td>MBBS | MD (Obstetrics &amp; Gynaecology)</td></tr><tr><td>6013</td><td>Dr.Manik</td><td>OBG</td><td>MBBS | MD (Obstetrics &amp; Gynaecology)</td></tr><tr><td>6014</td><td>Dr.Meena Sharma</td><td>OBG</td><td>MBBS | MS | DNB </td></tr><tr><td>6015</td><td>Dr.Surajr</td><td>OBG</td><td>MBBS | DGO | MD | MRCOG (UK)</td></tr><tr><td>6016</td><td>Dr.Sowbhagya</td><td>OBG</td><td> MBBS | MD (Obstetrics &amp; Gynaecology)</td></tr><tr><td>7011</td><td>Dr.Shama</td><td>Ophthalmology</td><td>MBBS | MS | FPRS</td></tr><tr><td>7012</td><td>Dr.Krishan</td><td>Ophthalmology</td><td>MBBS | MS</td></tr><tr><td>7013</td><td>Dr.Neeta</td><td>Ophthalmology</td><td>MBBS | MS</td></tr><tr><td>7014</td><td>Dr.Shailaja</td><td>Ophthalmology</td><td> MD | PG Diploma in DOMS</td></tr><tr><td>7015</td><td>Dr.Yogish Agarwal</td><td>Ophthalmology</td><td>MBBS | MS</td></tr><tr><td>7016</td><td>Dr.Sudha</td><td>Ophthalmology</td><td>MBBS | MS</td></tr><tr><td>8011</td><td>Dr.Anil</td><td>Orthopaedics</td><td>MBBS | MS Orthopaedics</td></tr><tr><td>8012</td><td>Dr.Kiran Kumar</td><td>Orthopaedics</td><td>MBBS | MS | DNB</td></tr><tr><td>8013</td><td>Dr.Jayaram</td><td>Orthopaedics</td><td>MBBS | MS</td></tr><tr><td>8014</td><td>Dr.Padmaraj</td><td>Orthopaedics</td><td>MBBS | diploma (Orthopaedics) | MS</td></tr><tr><td>8015</td><td>Dr.Niranjan</td><td>Orthopaedics</td><td>MBBS | MS</td></tr><tr><td>8016</td><td>Dr.Aarti</td><td>Orthopaedics</td><td>MBBS | MS</td></tr><tr><td>9011</td><td>Dr.Bhaskar</td><td>Paediatrics</td><td>MBBS | MD</td></tr><tr><td>9012</td><td>Dr.Vasudev</td><td>Paediatrics</td><td>MBBS | DCH | MRPCH</td></tr><tr><td>9013</td><td>Dr.Kneethi</td><td>Paediatrics</td><td> MBBS | DCH | DNB</td></tr><tr><td>9014</td><td>Dr.Neha</td><td>Paediatrics</td><td>MBBS | MD</td></tr><tr><td>9015</td><td>Dr.Suman</td><td>Paediatrics</td><td>MBBS | DCH | MRPCH</td></tr><tr><td>9016</td><td>Dr.Naresh</td><td>Paediatrics</td><td>MBBS | MD</td></tr></table>"
                    },
                    "metadata": {}
                }
            ],
            "execution_count": 34
        },
        {
            "cell_type": "code",
            "source": [
                "SELECT * FROM MEDICINE;"
            ],
            "metadata": {
                "azdata_cell_guid": "03ec4f99-a49b-43a0-8af7-7b02f2fcc0ea"
            },
            "outputs": [
                {
                    "output_type": "display_data",
                    "data": {
                        "text/html": "(0 rows affected)"
                    },
                    "metadata": {}
                },
                {
                    "output_type": "display_data",
                    "data": {
                        "text/html": "Total execution time: 00:00:00.053"
                    },
                    "metadata": {}
                },
                {
                    "output_type": "execute_result",
                    "execution_count": 15,
                    "data": {
                        "application/vnd.dataresource+json": {
                            "schema": {
                                "fields": [
                                    {
                                        "name": "MID"
                                    },
                                    {
                                        "name": "NAME"
                                    },
                                    {
                                        "name": "PRICE"
                                    }
                                ]
                            },
                            "data": []
                        },
                        "text/html": "<table><tr><th>MID</th><th>NAME</th><th>PRICE</th></tr></table>"
                    },
                    "metadata": {}
                }
            ],
            "execution_count": 15
        },
        {
            "cell_type": "code",
            "source": [
                "ALTER TABLE TEST\r\n",
                "DROP COLUMN PRICE;"
            ],
            "metadata": {
                "azdata_cell_guid": "a7f7394d-83af-42b8-836d-21fce256e4dd"
            },
            "outputs": [
                {
                    "output_type": "display_data",
                    "data": {
                        "text/html": "Commands completed successfully."
                    },
                    "metadata": {}
                },
                {
                    "output_type": "display_data",
                    "data": {
                        "text/html": "Total execution time: 00:00:00.053"
                    },
                    "metadata": {}
                }
            ],
            "execution_count": 16
        },
        {
            "cell_type": "code",
            "source": [
                "SELECT * FROM TEST;\r\n",
                "SELECT * FROM PATIENT;"
            ],
            "metadata": {
                "azdata_cell_guid": "0b4b5127-3f00-484c-8e31-c4526d950400",
                "tags": [
                    "hide_input"
                ]
            },
            "outputs": [
                {
                    "output_type": "display_data",
                    "data": {
                        "text/html": "(18 rows affected)"
                    },
                    "metadata": {}
                },
                {
                    "output_type": "display_data",
                    "data": {
                        "text/html": "(20 rows affected)"
                    },
                    "metadata": {}
                },
                {
                    "output_type": "display_data",
                    "data": {
                        "text/html": "Total execution time: 00:00:00.105"
                    },
                    "metadata": {}
                },
                {
                    "output_type": "execute_result",
                    "execution_count": 23,
                    "data": {
                        "application/vnd.dataresource+json": {
                            "schema": {
                                "fields": [
                                    {
                                        "name": "TID"
                                    },
                                    {
                                        "name": "NAME"
                                    },
                                    {
                                        "name": "PRICE"
                                    }
                                ]
                            },
                            "data": [
                                {
                                    "0": "1",
                                    "1": "ECG-Adult",
                                    "2": "Rs.300.00"
                                },
                                {
                                    "0": "2",
                                    "1": "Echo - Cardiogram",
                                    "2": "Rs.1200.00"
                                },
                                {
                                    "0": "3",
                                    "1": "Esr (Automated)",
                                    "2": "Rs.400.00"
                                },
                                {
                                    "0": "4",
                                    "1": "Glucose-Fasting",
                                    "2": "Rs.200.00"
                                },
                                {
                                    "0": "5",
                                    "1": "Glucose-Post Prandial",
                                    "2": "Rs.100.00"
                                },
                                {
                                    "0": "6",
                                    "1": "Glycated Haemoglobin",
                                    "2": "Rs.450.00"
                                },
                                {
                                    "0": "7",
                                    "1": "Hc Cardiology Consultation",
                                    "2": "Rs.650.00"
                                },
                                {
                                    "0": "8",
                                    "1": "Hc Diet Consultation",
                                    "2": "Rs.570.00"
                                },
                                {
                                    "0": "9",
                                    "1": "Hc Physician Consultation",
                                    "2": "Rs.570.00"
                                },
                                {
                                    "0": "10",
                                    "1": "Kidney Profile",
                                    "2": "Rs.220.00"
                                },
                                {
                                    "0": "11",
                                    "1": "Lipid Profile",
                                    "2": "Rs.399.00"
                                },
                                {
                                    "0": "12",
                                    "1": "Liver Function Test",
                                    "2": "Rs.481.00"
                                },
                                {
                                    "0": "13",
                                    "1": "Thyroid Profile (T3 T4 Tsh)",
                                    "2": "Rs.375.00"
                                },
                                {
                                    "0": "14",
                                    "1": "Total Vitamin D",
                                    "2": "Rs.1600.00"
                                },
                                {
                                    "0": "15",
                                    "1": "Thread Mill Test",
                                    "2": "Rs.13000.00"
                                },
                                {
                                    "0": "16",
                                    "1": "Vitamin B12",
                                    "2": "Rs.987.00"
                                },
                                {
                                    "0": "17",
                                    "1": "Xray Chest Pa",
                                    "2": "Rs.300.00"
                                },
                                {
                                    "0": "18",
                                    "1": "Renal Profile",
                                    "2": "Rs.800.00"
                                }
                            ]
                        },
                        "text/html": "<table><tr><th>TID</th><th>NAME</th><th>PRICE</th></tr><tr><td>1</td><td>ECG-Adult</td><td>Rs.300.00</td></tr><tr><td>2</td><td>Echo - Cardiogram</td><td>Rs.1200.00</td></tr><tr><td>3</td><td>Esr (Automated)</td><td>Rs.400.00</td></tr><tr><td>4</td><td>Glucose-Fasting</td><td>Rs.200.00</td></tr><tr><td>5</td><td>Glucose-Post Prandial</td><td>Rs.100.00</td></tr><tr><td>6</td><td>Glycated Haemoglobin</td><td>Rs.450.00</td></tr><tr><td>7</td><td>Hc Cardiology Consultation</td><td>Rs.650.00</td></tr><tr><td>8</td><td>Hc Diet Consultation</td><td>Rs.570.00</td></tr><tr><td>9</td><td>Hc Physician Consultation</td><td>Rs.570.00</td></tr><tr><td>10</td><td>Kidney Profile</td><td>Rs.220.00</td></tr><tr><td>11</td><td>Lipid Profile</td><td>Rs.399.00</td></tr><tr><td>12</td><td>Liver Function Test</td><td>Rs.481.00</td></tr><tr><td>13</td><td>Thyroid Profile (T3 T4 Tsh)</td><td>Rs.375.00</td></tr><tr><td>14</td><td>Total Vitamin D</td><td>Rs.1600.00</td></tr><tr><td>15</td><td>Thread Mill Test</td><td>Rs.13000.00</td></tr><tr><td>16</td><td>Vitamin B12</td><td>Rs.987.00</td></tr><tr><td>17</td><td>Xray Chest Pa</td><td>Rs.300.00</td></tr><tr><td>18</td><td>Renal Profile</td><td>Rs.800.00</td></tr></table>"
                    },
                    "metadata": {}
                },
                {
                    "output_type": "execute_result",
                    "execution_count": 23,
                    "data": {
                        "application/vnd.dataresource+json": {
                            "schema": {
                                "fields": [
                                    {
                                        "name": "PID"
                                    },
                                    {
                                        "name": "NAME"
                                    },
                                    {
                                        "name": "AGE"
                                    }
                                ]
                            },
                            "data": [
                                {
                                    "0": "101",
                                    "1": "Ram Singh",
                                    "2": "26"
                                },
                                {
                                    "0": "102",
                                    "1": "Siya Sharma",
                                    "2": "45"
                                },
                                {
                                    "0": "103",
                                    "1": "Aparna Gowda",
                                    "2": "30"
                                },
                                {
                                    "0": "104",
                                    "1": "Ritu Arora",
                                    "2": "19"
                                },
                                {
                                    "0": "105",
                                    "1": "Mayank Shetty",
                                    "2": "32"
                                },
                                {
                                    "0": "106",
                                    "1": "Aaron Pinto",
                                    "2": "37"
                                },
                                {
                                    "0": "107",
                                    "1": "Gagan Kundra",
                                    "2": "40"
                                },
                                {
                                    "0": "108",
                                    "1": "Geeta Rao",
                                    "2": "28"
                                },
                                {
                                    "0": "109",
                                    "1": "Deepika Kamath",
                                    "2": "47"
                                },
                                {
                                    "0": "110",
                                    "1": "Neha Rai",
                                    "2": "35"
                                },
                                {
                                    "0": "111",
                                    "1": "Rohit Verma",
                                    "2": "50"
                                },
                                {
                                    "0": "112",
                                    "1": "Hardik Pandya",
                                    "2": "30"
                                },
                                {
                                    "0": "113",
                                    "1": "Krunal Singh",
                                    "2": "31"
                                },
                                {
                                    "0": "114",
                                    "1": "Anjana",
                                    "2": "44"
                                },
                                {
                                    "0": "115",
                                    "1": "Premalatha",
                                    "2": "52"
                                },
                                {
                                    "0": "116",
                                    "1": "Aahan Khan",
                                    "2": "15"
                                },
                                {
                                    "0": "117",
                                    "1": "Sonali Singh",
                                    "2": "17"
                                },
                                {
                                    "0": "118",
                                    "1": "Arman Agrawal",
                                    "2": "48"
                                },
                                {
                                    "0": "119",
                                    "1": "Suresh Bhat",
                                    "2": "55"
                                },
                                {
                                    "0": "120",
                                    "1": "Preethi Kapoor",
                                    "2": "50"
                                }
                            ]
                        },
                        "text/html": "<table><tr><th>PID</th><th>NAME</th><th>AGE</th></tr><tr><td>101</td><td>Ram Singh</td><td>26</td></tr><tr><td>102</td><td>Siya Sharma</td><td>45</td></tr><tr><td>103</td><td>Aparna Gowda</td><td>30</td></tr><tr><td>104</td><td>Ritu Arora</td><td>19</td></tr><tr><td>105</td><td>Mayank Shetty</td><td>32</td></tr><tr><td>106</td><td>Aaron Pinto</td><td>37</td></tr><tr><td>107</td><td>Gagan Kundra</td><td>40</td></tr><tr><td>108</td><td>Geeta Rao</td><td>28</td></tr><tr><td>109</td><td>Deepika Kamath</td><td>47</td></tr><tr><td>110</td><td>Neha Rai</td><td>35</td></tr><tr><td>111</td><td>Rohit Verma</td><td>50</td></tr><tr><td>112</td><td>Hardik Pandya</td><td>30</td></tr><tr><td>113</td><td>Krunal Singh</td><td>31</td></tr><tr><td>114</td><td>Anjana</td><td>44</td></tr><tr><td>115</td><td>Premalatha</td><td>52</td></tr><tr><td>116</td><td>Aahan Khan</td><td>15</td></tr><tr><td>117</td><td>Sonali Singh</td><td>17</td></tr><tr><td>118</td><td>Arman Agrawal</td><td>48</td></tr><tr><td>119</td><td>Suresh Bhat</td><td>55</td></tr><tr><td>120</td><td>Preethi Kapoor</td><td>50</td></tr></table>"
                    },
                    "metadata": {}
                }
            ],
            "execution_count": 23
        },
        {
            "cell_type": "code",
            "source": [
                "ALTER TABLE TEST \r\n",
                "ADD PRICE NVARCHAR(40);"
            ],
            "metadata": {
                "azdata_cell_guid": "cdf389b9-83ca-492f-8b3a-675827fb6d74",
                "tags": []
            },
            "outputs": [
                {
                    "output_type": "display_data",
                    "data": {
                        "text/html": "Commands completed successfully."
                    },
                    "metadata": {}
                },
                {
                    "output_type": "display_data",
                    "data": {
                        "text/html": "Total execution time: 00:00:00.067"
                    },
                    "metadata": {}
                }
            ],
            "execution_count": 17
        },
        {
            "cell_type": "code",
            "source": [
                "INSERT INTO TEST \r\n",
                "VALUES (001, 'ECG-Adult', 'Rs.300.00'),\r\n",
                "       (002, 'Echo - Cardiogram', 'Rs.1200.00');"
            ],
            "metadata": {
                "azdata_cell_guid": "d8f25353-7496-4954-87a9-41ad79856435"
            },
            "outputs": [
                {
                    "output_type": "display_data",
                    "data": {
                        "text/html": "(2 rows affected)"
                    },
                    "metadata": {}
                },
                {
                    "output_type": "display_data",
                    "data": {
                        "text/html": "Total execution time: 00:00:04.605"
                    },
                    "metadata": {}
                }
            ],
            "execution_count": 18
        },
        {
            "cell_type": "code",
            "source": [
                "INSERT INTO TEST \r\n",
                "VALUES (003, 'Esr (Automated)', 'Rs.400.00'),\r\n",
                "       (004, 'Glucose-Fasting', 'Rs.200.00'),\r\n",
                "       (005, 'Glucose-Post Prandial', 'Rs.100.00'),\r\n",
                "       (006, 'Glycated Haemoglobin', 'Rs.450.00'),\r\n",
                "       (007, 'Hc Cardiology Consultation', 'Rs.650.00'),\r\n",
                "       (008, 'Hc Diet Consultation', 'Rs.570.00'),\r\n",
                "       (009, 'Hc Physician Consultation', 'Rs.570.00'),\r\n",
                "       (010, 'Kidney Profile', 'Rs.220.00'),\r\n",
                "       (011, 'Lipid Profile', 'Rs.399.00'),\r\n",
                "       (012, 'Liver Function Test', 'Rs.481.00'),\r\n",
                "       (013, 'Thyroid Profile (T3 T4 Tsh)', 'Rs.375.00'),\r\n",
                "       (014, 'Total Vitamin D', 'Rs.1600.00'),\r\n",
                "       (015, 'Thread Mill Test', 'Rs.13000.00'),\r\n",
                "       (016, 'Vitamin B12', 'Rs.987.00'),\r\n",
                "       (017, 'Xray Chest Pa', 'Rs.300.00'),\r\n",
                "       (018, 'Renal Profile', 'Rs.800.00');"
            ],
            "metadata": {
                "azdata_cell_guid": "d63a36dd-abce-4321-8998-0419e4fe386a",
                "tags": [
                    "hide_input"
                ]
            },
            "outputs": [
                {
                    "output_type": "display_data",
                    "data": {
                        "text/html": "(16 rows affected)"
                    },
                    "metadata": {}
                },
                {
                    "output_type": "display_data",
                    "data": {
                        "text/html": "Total execution time: 00:00:00.801"
                    },
                    "metadata": {}
                }
            ],
            "execution_count": 20
        },
        {
            "cell_type": "code",
            "source": [
                "INSERT INTO PATIENT\r\n",
                "VALUES (101, 'Ram Singh', 26),\r\n",
                "       (102, 'Siya Sharma', 45),\r\n",
                "       (103, 'Aparna Gowda', 30),\r\n",
                "       (104, 'Ritu Arora', 19 ),\r\n",
                "       (105, 'Mayank Shetty', 32),\r\n",
                "       (106, 'Aaron Pinto', 37),\r\n",
                "       (107, 'Gagan Kundra', 40),\r\n",
                "       (108, 'Geeta Rao', 28),\r\n",
                "       (109, 'Deepika Kamath', 47),\r\n",
                "       (110, 'Neha Rai', 35),\r\n",
                "       (111, 'Rohit Verma', 50),\r\n",
                "       (112, 'Hardik Pandya', 30),\r\n",
                "       (113, 'Krunal Singh', 31),\r\n",
                "       (114, 'Anjana', 44),\r\n",
                "       (115, 'Premalatha', 52),\r\n",
                "       (116, 'Aahan Khan', 15),\r\n",
                "       (117, 'Sonali Singh', 17),\r\n",
                "       (118, 'Arman Agrawal', 48),\r\n",
                "       (119, 'Suresh Bhat', 55),\r\n",
                "       (120, 'Preethi Kapoor', 50);"
            ],
            "metadata": {
                "azdata_cell_guid": "c04788ef-93c3-4a7d-8621-025ad708c9ff",
                "tags": [
                    "hide_input"
                ]
            },
            "outputs": [
                {
                    "output_type": "error",
                    "ename": "",
                    "evalue": "Msg 2627, Level 14, State 1, Line 1\r\nViolation of PRIMARY KEY constraint 'PK__PATIENT__C577552099CE0688'. Cannot insert duplicate key in object 'dbo.PATIENT'. The duplicate key value is (101).",
                    "traceback": []
                },
                {
                    "output_type": "display_data",
                    "data": {
                        "text/html": "The statement has been terminated."
                    },
                    "metadata": {}
                },
                {
                    "output_type": "display_data",
                    "data": {
                        "text/html": "Total execution time: 00:00:00.073"
                    },
                    "metadata": {}
                }
            ],
            "execution_count": 24
        },
        {
            "cell_type": "code",
            "source": [
                "SELECT * FROM PATIENT;"
            ],
            "metadata": {
                "azdata_cell_guid": "9ecb6c67-3e07-434c-8512-f448fb1f9e52"
            },
            "outputs": [
                {
                    "output_type": "display_data",
                    "data": {
                        "text/html": "(20 rows affected)"
                    },
                    "metadata": {}
                },
                {
                    "output_type": "display_data",
                    "data": {
                        "text/html": "Total execution time: 00:00:00.056"
                    },
                    "metadata": {}
                },
                {
                    "output_type": "execute_result",
                    "execution_count": 25,
                    "data": {
                        "application/vnd.dataresource+json": {
                            "schema": {
                                "fields": [
                                    {
                                        "name": "PID"
                                    },
                                    {
                                        "name": "NAME"
                                    },
                                    {
                                        "name": "AGE"
                                    }
                                ]
                            },
                            "data": [
                                {
                                    "0": "101",
                                    "1": "Ram Singh",
                                    "2": "26"
                                },
                                {
                                    "0": "102",
                                    "1": "Siya Sharma",
                                    "2": "45"
                                },
                                {
                                    "0": "103",
                                    "1": "Aparna Gowda",
                                    "2": "30"
                                },
                                {
                                    "0": "104",
                                    "1": "Ritu Arora",
                                    "2": "19"
                                },
                                {
                                    "0": "105",
                                    "1": "Mayank Shetty",
                                    "2": "32"
                                },
                                {
                                    "0": "106",
                                    "1": "Aaron Pinto",
                                    "2": "37"
                                },
                                {
                                    "0": "107",
                                    "1": "Gagan Kundra",
                                    "2": "40"
                                },
                                {
                                    "0": "108",
                                    "1": "Geeta Rao",
                                    "2": "28"
                                },
                                {
                                    "0": "109",
                                    "1": "Deepika Kamath",
                                    "2": "47"
                                },
                                {
                                    "0": "110",
                                    "1": "Neha Rai",
                                    "2": "35"
                                },
                                {
                                    "0": "111",
                                    "1": "Rohit Verma",
                                    "2": "50"
                                },
                                {
                                    "0": "112",
                                    "1": "Hardik Pandya",
                                    "2": "30"
                                },
                                {
                                    "0": "113",
                                    "1": "Krunal Singh",
                                    "2": "31"
                                },
                                {
                                    "0": "114",
                                    "1": "Anjana",
                                    "2": "44"
                                },
                                {
                                    "0": "115",
                                    "1": "Premalatha",
                                    "2": "52"
                                },
                                {
                                    "0": "116",
                                    "1": "Aahan Khan",
                                    "2": "15"
                                },
                                {
                                    "0": "117",
                                    "1": "Sonali Singh",
                                    "2": "17"
                                },
                                {
                                    "0": "118",
                                    "1": "Arman Agrawal",
                                    "2": "48"
                                },
                                {
                                    "0": "119",
                                    "1": "Suresh Bhat",
                                    "2": "55"
                                },
                                {
                                    "0": "120",
                                    "1": "Preethi Kapoor",
                                    "2": "50"
                                }
                            ]
                        },
                        "text/html": "<table><tr><th>PID</th><th>NAME</th><th>AGE</th></tr><tr><td>101</td><td>Ram Singh</td><td>26</td></tr><tr><td>102</td><td>Siya Sharma</td><td>45</td></tr><tr><td>103</td><td>Aparna Gowda</td><td>30</td></tr><tr><td>104</td><td>Ritu Arora</td><td>19</td></tr><tr><td>105</td><td>Mayank Shetty</td><td>32</td></tr><tr><td>106</td><td>Aaron Pinto</td><td>37</td></tr><tr><td>107</td><td>Gagan Kundra</td><td>40</td></tr><tr><td>108</td><td>Geeta Rao</td><td>28</td></tr><tr><td>109</td><td>Deepika Kamath</td><td>47</td></tr><tr><td>110</td><td>Neha Rai</td><td>35</td></tr><tr><td>111</td><td>Rohit Verma</td><td>50</td></tr><tr><td>112</td><td>Hardik Pandya</td><td>30</td></tr><tr><td>113</td><td>Krunal Singh</td><td>31</td></tr><tr><td>114</td><td>Anjana</td><td>44</td></tr><tr><td>115</td><td>Premalatha</td><td>52</td></tr><tr><td>116</td><td>Aahan Khan</td><td>15</td></tr><tr><td>117</td><td>Sonali Singh</td><td>17</td></tr><tr><td>118</td><td>Arman Agrawal</td><td>48</td></tr><tr><td>119</td><td>Suresh Bhat</td><td>55</td></tr><tr><td>120</td><td>Preethi Kapoor</td><td>50</td></tr></table>"
                    },
                    "metadata": {}
                }
            ],
            "execution_count": 25
        },
        {
            "cell_type": "code",
            "source": [
                "SELECT * FROM MEDICINE;"
            ],
            "metadata": {
                "azdata_cell_guid": "391187f2-8b6b-42f4-b3c9-645be4ae59cf"
            },
            "outputs": [
                {
                    "output_type": "display_data",
                    "data": {
                        "text/html": "(0 rows affected)"
                    },
                    "metadata": {}
                },
                {
                    "output_type": "display_data",
                    "data": {
                        "text/html": "Total execution time: 00:00:00.091"
                    },
                    "metadata": {}
                },
                {
                    "output_type": "execute_result",
                    "execution_count": 35,
                    "data": {
                        "application/vnd.dataresource+json": {
                            "schema": {
                                "fields": [
                                    {
                                        "name": "MID"
                                    },
                                    {
                                        "name": "NAME"
                                    },
                                    {
                                        "name": "PRICE"
                                    }
                                ]
                            },
                            "data": []
                        },
                        "text/html": "<table><tr><th>MID</th><th>NAME</th><th>PRICE</th></tr></table>"
                    },
                    "metadata": {}
                }
            ],
            "execution_count": 35
        },
        {
            "cell_type": "code",
            "source": [
                "ALTER TABLE MEDICINE \r\n",
                "ALTER COLUMN PRICE NVARCHAR(40);"
            ],
            "metadata": {
                "azdata_cell_guid": "70bea683-b9f3-48b6-b38c-e97052cc7453"
            },
            "outputs": [
                {
                    "output_type": "display_data",
                    "data": {
                        "text/html": "Commands completed successfully."
                    },
                    "metadata": {}
                },
                {
                    "output_type": "display_data",
                    "data": {
                        "text/html": "Total execution time: 00:00:00.151"
                    },
                    "metadata": {}
                }
            ],
            "execution_count": 36
        },
        {
            "cell_type": "code",
            "source": [
                "INSERT INTO MEDICINE\n",
                "VALUES  (1111, 'Crocin', 'Rs.30.00'),\n",
                "        (1112, 'Dolo', 'Rs.13.78'),\n",
                "        (1113, 'Paracetamol', 'Rs.10.00'),\n",
                "        (1114, 'Lanzol', 'Rs.09.00'),\n",
                "        (1115, 'Brufen', 'Rs.10.92'),\n",
                "        (1116, 'Cetirizine', 'Rs.16.80'),\n",
                "        (1117, 'Aspirin', 'Rs.03.99'),\n",
                "        (1118, 'Benadryl', 'Rs.81.60'),\n",
                "        (1119, 'Rantac', 'Rs.16.38'),\n",
                "        (1120, 'Loperamide', 'Rs.16.50'),\n",
                "        (1121, 'Strepsils', 'Rs.03.00'),\n",
                "        (1122, 'Limcee', 'Rs.23.05'),\n",
                "        (1123, 'Avil', 'Rs.02.40'),\n",
                "        (1124, 'Pantoprazole', 'Rs.40.00'),\n",
                "        (1125, 'Loperamide', 'Rs.16.50');"
            ],
            "metadata": {
                "azdata_cell_guid": "78e5af1c-9d7c-4543-8237-acc77b3ac4aa"
            },
            "outputs": [
                {
                    "output_type": "display_data",
                    "data": {
                        "text/html": "(15 rows affected)"
                    },
                    "metadata": {}
                },
                {
                    "output_type": "display_data",
                    "data": {
                        "text/html": "Total execution time: 00:00:00.226"
                    },
                    "metadata": {}
                }
            ],
            "execution_count": 37
        }
    ]
}