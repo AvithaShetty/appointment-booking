{
    "metadata": {
        "kernelspec": {
            "name": "SQL",
            "display_name": "SQL",
            "language": "sql"
        },
        "language_info": {
            "name": "sql",
            "version": ""
        }
    },
    "nbformat_minor": 2,
    "nbformat": 4,
    "cells": [
        {
            "cell_type": "markdown",
            "source": [
                "This is my first SQL Query on my Thinkpad"
            ],
            "metadata": {
                "azdata_cell_guid": "fb22f9ff-214a-43ea-afae-1fe7aba36b95"
            }
        },
        {
            "cell_type": "code",
            "source": [
                "SELECT * FROM INFORMATION_SCHEMA.TABLES;"
            ],
            "metadata": {
                "azdata_cell_guid": "b741e549-0107-4dab-a860-329463b5d4e8"
            },
            "outputs": [
                {
                    "output_type": "display_data",
                    "data": {
                        "text/html": "(5 rows affected)"
                    },
                    "metadata": {}
                },
                {
                    "output_type": "display_data",
                    "data": {
                        "text/html": "Total execution time: 00:00:00.351"
                    },
                    "metadata": {}
                },
                {
                    "output_type": "execute_result",
                    "metadata": {},
                    "execution_count": 1,
                    "data": {
                        "application/vnd.dataresource+json": {
                            "schema": {
                                "fields": [
                                    {
                                        "name": "TABLE_CATALOG"
                                    },
                                    {
                                        "name": "TABLE_SCHEMA"
                                    },
                                    {
                                        "name": "TABLE_NAME"
                                    },
                                    {
                                        "name": "TABLE_TYPE"
                                    }
                                ]
                            },
                            "data": [
                                {
                                    "0": "myHospital",
                                    "1": "sys",
                                    "2": "database_firewall_rules",
                                    "3": "VIEW"
                                },
                                {
                                    "0": "myHospital",
                                    "1": "dbo",
                                    "2": "MEDICINE",
                                    "3": "BASE TABLE"
                                },
                                {
                                    "0": "myHospital",
                                    "1": "dbo",
                                    "2": "DOCTOR",
                                    "3": "BASE TABLE"
                                },
                                {
                                    "0": "myHospital",
                                    "1": "dbo",
                                    "2": "PATIENT",
                                    "3": "BASE TABLE"
                                },
                                {
                                    "0": "myHospital",
                                    "1": "dbo",
                                    "2": "TEST",
                                    "3": "BASE TABLE"
                                }
                            ]
                        },
                        "text/html": [
                            "<table>",
                            "<tr><th>TABLE_CATALOG</th><th>TABLE_SCHEMA</th><th>TABLE_NAME</th><th>TABLE_TYPE</th></tr>",
                            "<tr><td>myHospital</td><td>sys</td><td>database_firewall_rules</td><td>VIEW</td></tr>",
                            "<tr><td>myHospital</td><td>dbo</td><td>MEDICINE</td><td>BASE TABLE</td></tr>",
                            "<tr><td>myHospital</td><td>dbo</td><td>DOCTOR</td><td>BASE TABLE</td></tr>",
                            "<tr><td>myHospital</td><td>dbo</td><td>PATIENT</td><td>BASE TABLE</td></tr>",
                            "<tr><td>myHospital</td><td>dbo</td><td>TEST</td><td>BASE TABLE</td></tr>",
                            "</table>"
                        ]
                    }
                }
            ],
            "execution_count": 1
        },
        {
            "cell_type": "code",
            "source": [
                ""
            ],
            "metadata": {
                "azdata_cell_guid": "03ec4f99-a49b-43a0-8af7-7b02f2fcc0ea"
            },
            "outputs": [],
            "execution_count": null
        }
    ]
}